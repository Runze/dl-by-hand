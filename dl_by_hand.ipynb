{
 "cells": [
  {
   "cell_type": "code",
   "execution_count": 1,
   "metadata": {
    "collapsed": true
   },
   "outputs": [],
   "source": [
    "import numpy as np\n",
    "import pandas as pd\n",
    "import copy\n",
    "import seaborn as sns\n",
    "sns.set_style('whitegrid')"
   ]
  },
  {
   "cell_type": "code",
   "execution_count": 2,
   "metadata": {
    "collapsed": false
   },
   "outputs": [
    {
     "name": "stderr",
     "output_type": "stream",
     "text": [
      "/home/udocker/phoenix-worker/environments/python2/local/lib/python2.7/site-packages/matplotlib/font_manager.py:273: UserWarning: Matplotlib is building the font cache using fc-list. This may take a moment.\n",
      "  warnings.warn('Matplotlib is building the font cache using fc-list. This may take a moment.')\n"
     ]
    }
   ],
   "source": [
    "%matplotlib inline"
   ]
  },
  {
   "cell_type": "code",
   "execution_count": 3,
   "metadata": {
    "collapsed": false
   },
   "outputs": [
    {
     "data": {
      "text/plain": [
       "((1000, 500), (1000, 1))"
      ]
     },
     "execution_count": 3,
     "metadata": {},
     "output_type": "execute_result"
    }
   ],
   "source": [
    "# Define x and y\n",
    "np.random.seed(0)\n",
    "x = np.random.normal(size=(1000, 500))\n",
    "y = np.dot(x**2, np.random.normal(size=(500, 1))) + np.dot(x, np.random.normal(size=(500, 1))) + np.random.normal(size=(1000, 1))\n",
    "y = (1 / (1 + np.exp(-y))).round()\n",
    "x.shape, y.shape"
   ]
  },
  {
   "cell_type": "markdown",
   "metadata": {},
   "source": [
    "## Forward propagation"
   ]
  },
  {
   "cell_type": "code",
   "execution_count": 4,
   "metadata": {
    "collapsed": true
   },
   "outputs": [],
   "source": [
    "# Initialize weight matrices\n",
    "params = {}\n",
    "n_layers = 3\n",
    "hidden_sizes = [20, 10, 1]\n",
    "input_size = x.shape[1]\n",
    "\n",
    "for i in range(n_layers):\n",
    "    params['w_' + str(i)] = np.random.normal(size=(input_size, hidden_sizes[i]))\n",
    "    params['b_' + str(i)] = np.random.normal(size=(1, hidden_sizes[i]))\n",
    "    input_size = hidden_sizes[i]"
   ]
  },
  {
   "cell_type": "code",
   "execution_count": 5,
   "metadata": {
    "collapsed": false
   },
   "outputs": [
    {
     "data": {
      "text/plain": [
       "{'b_0': (1, 20),\n",
       " 'b_1': (1, 10),\n",
       " 'b_2': (1, 1),\n",
       " 'w_0': (500, 20),\n",
       " 'w_1': (20, 10),\n",
       " 'w_2': (10, 1)}"
      ]
     },
     "execution_count": 5,
     "metadata": {},
     "output_type": "execute_result"
    }
   ],
   "source": [
    "{k: v.shape for k, v in params.items()}"
   ]
  },
  {
   "cell_type": "code",
   "execution_count": 6,
   "metadata": {
    "collapsed": true
   },
   "outputs": [],
   "source": [
    "# Define activation functions\n",
    "def relu(x):\n",
    "    return x * (x > 0)\n",
    "\n",
    "def sigmoid(x):\n",
    "    return 1 / (1 + np.exp(-x))"
   ]
  },
  {
   "cell_type": "code",
   "execution_count": 7,
   "metadata": {
    "collapsed": false
   },
   "outputs": [],
   "source": [
    "def forward(x, y, params, n_layers, eps=1e-7):\n",
    "    # Forward pass\n",
    "    acts = {}\n",
    "    acts['a_-1'] = np.copy(x)\n",
    "    for i in range(n_layers):\n",
    "        z = np.dot(acts['a_' + str(i-1)], params['w_' + str(i)]) + params['b_' + str(i)]\n",
    "        if i < n_layers - 1:\n",
    "            acts['a_' + str(i)] = relu(z)\n",
    "        else:\n",
    "            acts['a_' + str(i)] = sigmoid(z)\n",
    "\n",
    "    # Compute loss\n",
    "    loss = -(y * np.log(acts['a_' + str(i)] + eps) + (1 - y) * np.log(1 - acts['a_' + str(i)] + eps)).mean()    \n",
    "    return acts, loss, params"
   ]
  },
  {
   "cell_type": "code",
   "execution_count": 8,
   "metadata": {
    "collapsed": false
   },
   "outputs": [
    {
     "data": {
      "text/plain": [
       "{'a_-1': (1000, 500), 'a_0': (1000, 20), 'a_1': (1000, 10), 'a_2': (1000, 1)}"
      ]
     },
     "execution_count": 8,
     "metadata": {},
     "output_type": "execute_result"
    }
   ],
   "source": [
    "acts, loss, params = forward(x, y, params, n_layers)\n",
    "\n",
    "# Check dimensions of the activations\n",
    "{k: v.shape for k, v in acts.items()}"
   ]
  },
  {
   "cell_type": "markdown",
   "metadata": {},
   "source": [
    "## Backward propagation"
   ]
  },
  {
   "cell_type": "code",
   "execution_count": 9,
   "metadata": {
    "collapsed": false
   },
   "outputs": [],
   "source": [
    "def backward(y, acts, params, n_layers):\n",
    "    grads = {}\n",
    "    for i in range(n_layers)[::-1]:\n",
    "        if i == n_layers - 1:\n",
    "            grads['dz_' + str(i)] = acts['a_' + str(i)] - y\n",
    "        else:\n",
    "            grads['da_' + str(i)] = np.dot(grads['dz_' + str(i+1)], params['w_' + str(i+1)].transpose())\n",
    "            grads['dz_' + str(i)] = grads['da_' + str(i)] * (acts['a_' + str(i)] > 0)\n",
    "        grads['dw_' + str(i)] = np.dot(acts['a_' + str(i-1)].transpose(), grads['dz_' + str(i)]) * 1.0 / x.shape[0]\n",
    "        grads['db_' + str(i)] = grads['dz_' + str(i)].sum(axis=0, keepdims=True) * 1.0 / x.shape[0]\n",
    "    return grads"
   ]
  },
  {
   "cell_type": "code",
   "execution_count": 10,
   "metadata": {
    "collapsed": false
   },
   "outputs": [
    {
     "data": {
      "text/plain": [
       "{'da_0': (1000, 20),\n",
       " 'da_1': (1000, 10),\n",
       " 'db_0': (1, 20),\n",
       " 'db_1': (1, 10),\n",
       " 'db_2': (1, 1),\n",
       " 'dw_0': (500, 20),\n",
       " 'dw_1': (20, 10),\n",
       " 'dw_2': (10, 1),\n",
       " 'dz_0': (1000, 20),\n",
       " 'dz_1': (1000, 10),\n",
       " 'dz_2': (1000, 1)}"
      ]
     },
     "execution_count": 10,
     "metadata": {},
     "output_type": "execute_result"
    }
   ],
   "source": [
    "grads = backward(y, acts, params, n_layers)\n",
    "\n",
    "# Check dimensions of the gradients\n",
    "{k: v.shape for k, v in grads.items()}"
   ]
  },
  {
   "cell_type": "markdown",
   "metadata": {},
   "source": [
    "## Update parameters"
   ]
  },
  {
   "cell_type": "code",
   "execution_count": 11,
   "metadata": {
    "collapsed": false
   },
   "outputs": [],
   "source": [
    "def update_params(params, grads, n_layers, lr=.001):\n",
    "    for i in range(n_layers):\n",
    "        params['w_' + str(i)] -= lr * grads['dw_' + str(i)]\n",
    "        params['b_' + str(i)] -= lr * grads['db_' + str(i)]\n",
    "    return params"
   ]
  },
  {
   "cell_type": "markdown",
   "metadata": {},
   "source": [
    "## Gradient descent"
   ]
  },
  {
   "cell_type": "code",
   "execution_count": 12,
   "metadata": {
    "collapsed": true
   },
   "outputs": [],
   "source": [
    "n_iters = 500"
   ]
  },
  {
   "cell_type": "code",
   "execution_count": 13,
   "metadata": {
    "collapsed": true
   },
   "outputs": [],
   "source": [
    "loss_dict = {}"
   ]
  },
  {
   "cell_type": "markdown",
   "metadata": {},
   "source": [
    "### Basic (using all data for each update)"
   ]
  },
  {
   "cell_type": "code",
   "execution_count": 14,
   "metadata": {
    "collapsed": false
   },
   "outputs": [],
   "source": [
    "params_ = copy.deepcopy(params)\n",
    "losses = []\n",
    "for i in range(n_iters):\n",
    "    # Forward pass\n",
    "    acts, loss, params_ = forward(x, y, params_, n_layers)\n",
    "    losses.append(loss)\n",
    "    \n",
    "    # Backward pass\n",
    "    grads = backward(y, acts, params_, n_layers)\n",
    "    \n",
    "    # Update parameters\n",
    "    params_ = update_params(params_, grads, n_layers)\n",
    "\n",
    "loss_dict['basic'] = losses"
   ]
  },
  {
   "cell_type": "markdown",
   "metadata": {},
   "source": [
    "### Mini-batch gradient descent"
   ]
  },
  {
   "cell_type": "code",
   "execution_count": 15,
   "metadata": {
    "collapsed": false
   },
   "outputs": [],
   "source": [
    "def gen_batches(x, y, bs=50, seed=0):\n",
    "    # Shuffle\n",
    "    np.random.seed(seed)\n",
    "    ix = np.random.permutation(x.shape[0])\n",
    "    nb, remains = divmod(x.shape[0], bs)\n",
    "    if remains > 0:\n",
    "        nb += 1\n",
    "\n",
    "    ixs = [ix[i*bs:(i+1)*bs] for i in range(nb)]\n",
    "    batches = [(x[i], y[i]) for i in ixs]\n",
    "    return batches"
   ]
  },
  {
   "cell_type": "code",
   "execution_count": 16,
   "metadata": {
    "collapsed": false
   },
   "outputs": [
    {
     "data": {
      "text/plain": [
       "20"
      ]
     },
     "execution_count": 16,
     "metadata": {},
     "output_type": "execute_result"
    }
   ],
   "source": [
    "batches = gen_batches(x, y)\n",
    "len(batches)"
   ]
  },
  {
   "cell_type": "code",
   "execution_count": 17,
   "metadata": {
    "collapsed": false
   },
   "outputs": [],
   "source": [
    "params_ = copy.deepcopy(params)\n",
    "losses = []\n",
    "for i in range(n_iters):\n",
    "    for j in range(len(batches)):\n",
    "        # Fetch mini-batch\n",
    "        x_, y_ = batches[j]\n",
    "        \n",
    "        # Forward pass\n",
    "        acts, loss, params_ = forward(x_, y_, params_, n_layers)\n",
    "        \n",
    "        # Backward pass\n",
    "        grads = backward(y_, acts, params_, n_layers)\n",
    "\n",
    "        # Update parameters\n",
    "        params_ = update_params(params_, grads, n_layers)\n",
    "\n",
    "    # Compute loss after an epoch\n",
    "    _, loss, _ = forward(x, y, params_, n_layers)\n",
    "    losses.append(loss)\n",
    "\n",
    "loss_dict['batch'] = losses"
   ]
  },
  {
   "cell_type": "markdown",
   "metadata": {
    "collapsed": true
   },
   "source": [
    "### Momentum"
   ]
  },
  {
   "cell_type": "code",
   "execution_count": 18,
   "metadata": {
    "collapsed": false
   },
   "outputs": [],
   "source": [
    "# Initialize velocities\n",
    "def initialize_velocities(grads):\n",
    "    vs = {}\n",
    "    for g in grads:\n",
    "        vs[g] = np.zeros_like(grads[g])\n",
    "    return vs"
   ]
  },
  {
   "cell_type": "code",
   "execution_count": 19,
   "metadata": {
    "collapsed": false
   },
   "outputs": [],
   "source": [
    "def update_velocities(grads, vs, beta=.9):\n",
    "    for g in grads:\n",
    "        vs[g] = beta * vs[g] + (1 - beta) * grads[g]\n",
    "    return vs"
   ]
  },
  {
   "cell_type": "code",
   "execution_count": 20,
   "metadata": {
    "collapsed": false
   },
   "outputs": [],
   "source": [
    "params_ = copy.deepcopy(params)\n",
    "losses = []\n",
    "vs = initialize_velocities(grads)\n",
    "\n",
    "for i in range(n_iters):\n",
    "    for j in range(len(batches)):\n",
    "        # Fetch mini-batch\n",
    "        x_, y_ = batches[j]\n",
    "        \n",
    "        # Forward pass\n",
    "        acts, loss, params_ = forward(x_, y_, params_, n_layers)\n",
    "        \n",
    "        # Backward pass\n",
    "        grads = backward(y_, acts, params_, n_layers)\n",
    "        \n",
    "        # Update velocities\n",
    "        vs = update_velocities(grads, vs)\n",
    "        \n",
    "        # Update parameters\n",
    "        params_ = update_params(params_, vs, n_layers)\n",
    "\n",
    "    # Compute loss after an epoch\n",
    "    _, loss, _ = forward(x, y, params_, n_layers)\n",
    "    losses.append(loss)\n",
    "\n",
    "loss_dict['momentum'] = losses"
   ]
  },
  {
   "cell_type": "markdown",
   "metadata": {},
   "source": [
    "### RMSprop"
   ]
  },
  {
   "cell_type": "code",
   "execution_count": 21,
   "metadata": {
    "collapsed": true
   },
   "outputs": [],
   "source": [
    "# Initialize velocities\n",
    "def initialize_squareds(grads):\n",
    "    ss = {}\n",
    "    for g in grads:\n",
    "        ss[g] = np.zeros_like(grads[g])\n",
    "    return ss"
   ]
  },
  {
   "cell_type": "code",
   "execution_count": 22,
   "metadata": {
    "collapsed": true
   },
   "outputs": [],
   "source": [
    "def update_squareds(grads, ss, beta=.9, eps=1e-7):\n",
    "    for g in grads:\n",
    "        ss[g] = beta * ss[g] + (1 - beta) * grads[g]**2\n",
    "        grads[g] /= np.sqrt(ss[g]) + eps\n",
    "    return ss, grads"
   ]
  },
  {
   "cell_type": "code",
   "execution_count": 23,
   "metadata": {
    "collapsed": false
   },
   "outputs": [],
   "source": [
    "params_ = copy.deepcopy(params)\n",
    "losses = []\n",
    "ss = initialize_squareds(grads)\n",
    "\n",
    "for i in range(n_iters):\n",
    "    for j in range(len(batches)):\n",
    "        # Fetch mini-batch\n",
    "        x_, y_ = batches[j]\n",
    "        \n",
    "        # Forward pass\n",
    "        acts, loss, params_ = forward(x_, y_, params_, n_layers)\n",
    "        \n",
    "        # Backward pass\n",
    "        grads = backward(y_, acts, params_, n_layers)\n",
    "        \n",
    "        # Update squareds\n",
    "        ss, grads = update_squareds(grads, ss)\n",
    "        \n",
    "        # Update parameters\n",
    "        params_ = update_params(params_, grads, n_layers)\n",
    "\n",
    "    # Compute loss after an epoch\n",
    "    _, loss, _ = forward(x, y, params_, n_layers)\n",
    "    losses.append(loss)\n",
    "\n",
    "loss_dict['rmsprop'] = losses"
   ]
  },
  {
   "cell_type": "markdown",
   "metadata": {},
   "source": [
    "### Adam"
   ]
  },
  {
   "cell_type": "code",
   "execution_count": 25,
   "metadata": {
    "collapsed": true
   },
   "outputs": [],
   "source": [
    "# Initialize velocities\n",
    "def initialize_adam(grads):\n",
    "    vs = {}\n",
    "    ss = {}\n",
    "    for g in grads:\n",
    "        vs[g] = np.zeros_like(grads[g])\n",
    "        ss[g] = np.zeros_like(grads[g])\n",
    "    return vs, ss"
   ]
  },
  {
   "cell_type": "code",
   "execution_count": 26,
   "metadata": {
    "collapsed": true
   },
   "outputs": [],
   "source": [
    "def update_adam(grads, vs, ss, beta_1=0.9, beta_2=0.999, eps=1e-7):\n",
    "    for g in grads:\n",
    "        vs[g] = beta_1 * vs[g] + (1 - beta_1) * grads[g]\n",
    "        ss[g] = beta_2 * ss[g] + (1 - beta_2) * grads[g]**2\n",
    "        grads[g] = vs[g] / (np.sqrt(ss[g]) + eps)\n",
    "    return vs, ss, grads"
   ]
  },
  {
   "cell_type": "code",
   "execution_count": 29,
   "metadata": {
    "collapsed": false
   },
   "outputs": [],
   "source": [
    "params_ = copy.deepcopy(params)\n",
    "losses = []\n",
    "vs, ss = initialize_adam(grads)\n",
    "\n",
    "for i in range(n_iters):\n",
    "    for j in range(len(batches)):\n",
    "        # Fetch mini-batch\n",
    "        x_, y_ = batches[j]\n",
    "        \n",
    "        # Forward pass\n",
    "        acts, loss, params_ = forward(x_, y_, params_, n_layers)\n",
    "        \n",
    "        # Backward pass\n",
    "        grads = backward(y_, acts, params_, n_layers)\n",
    "        \n",
    "        # Update Adam\n",
    "        vs, ss, grads = update_adam(grads, vs, ss)\n",
    "        \n",
    "        # Update parameters\n",
    "        params_ = update_params(params_, grads, n_layers)\n",
    "\n",
    "    # Compute loss after an epoch\n",
    "    _, loss, _ = forward(x, y, params_, n_layers)\n",
    "    losses.append(loss)\n",
    "\n",
    "loss_dict['adam'] = losses"
   ]
  },
  {
   "cell_type": "markdown",
   "metadata": {},
   "source": [
    "### Compare losses"
   ]
  },
  {
   "cell_type": "code",
   "execution_count": 34,
   "metadata": {
    "collapsed": false
   },
   "outputs": [
    {
     "data": {
      "text/plain": [
       "<matplotlib.axes._subplots.AxesSubplot at 0x7f84e2c5ffd0>"
      ]
     },
     "execution_count": 34,
     "metadata": {},
     "output_type": "execute_result"
    },
    {
     "data": {
      "image/png": "[encoded data removed]",
      "text/plain": [
       "<matplotlib.figure.Figure at 0x7f84e2729990>"
      ]
     },
     "metadata": {},
     "output_type": "display_data"
    }
   ],
   "source": [
    "pd.DataFrame(loss_dict).plot()"
   ]
  },
  {
   "cell_type": "code",
   "execution_count": null,
   "metadata": {
    "collapsed": true
   },
   "outputs": [],
   "source": []
  }
 ],
 "metadata": {
  "kernelspec": {
   "display_name": "Python 2 (General DS)",
   "language": "python",
   "name": "python2"
  },
  "language_info": {
   "codemirror_mode": {
    "name": "ipython",
    "version": 2
   },
   "file_extension": ".py",
   "mimetype": "text/x-python",
   "name": "python",
   "nbconvert_exporter": "python",
   "pygments_lexer": "ipython2",
   "version": "2.7.10"
  }
 },
 "nbformat": 4,
 "nbformat_minor": 2
}
